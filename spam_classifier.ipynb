{
 "cells": [
  {
   "cell_type": "code",
   "execution_count": 4,
   "metadata": {},
   "outputs": [
    {
     "name": "stdout",
     "output_type": "stream",
     "text": [
      "Data size 5572, training size 4179, test size 1393\n",
      "Accuracy score 0.987796123475\n",
      "Precision score 0.961538461538\n",
      "Recall score 0.945945945946\n",
      "F1 score 0.953678474114\n"
     ]
    }
   ],
   "source": [
    "import pandas as pd\n",
    "# default separator \\t\n",
    "df = pd.read_table('SMSSpamCollection', header=None, names=['label', 'sms_message'])\n",
    "df['label'] = df['label'].map({'ham' : 0, 'spam' : 1})\n",
    "\n",
    "from sklearn.feature_extraction.text import CountVectorizer\n",
    "count_vector = CountVectorizer(stop_words='english')\n",
    "\n",
    "# documents = ['Hello, how are you!',\n",
    "#                 'Win money, win from home.',\n",
    "#                 'Call me now.',\n",
    "#                 'Hello, Call hello you tomorrow?']\n",
    "\n",
    "# count_vector.fit(documents)\n",
    "# doc_array = count_vector.transform(documents).toarray()\n",
    "# frequency_matrix = pd.DataFrame(doc_array, columns=count_vector.get_feature_names())\n",
    "\n",
    "from sklearn.cross_validation import train_test_split\n",
    "X_train, X_test, y_train, y_test = train_test_split(df['sms_message'], df['label'], random_state=1)\n",
    "print('Data size {}, training size {}, test size {}'.format(df.shape[0], X_train.shape[0], X_test.shape[0]))\n",
    "\n",
    "training_data = count_vector.fit_transform(X_train)\n",
    "test_data = count_vector.transform(X_test)\n",
    "\n",
    "from sklearn.naive_bayes import MultinomialNB\n",
    "naive_bayes = MultinomialNB()\n",
    "naive_bayes.fit(training_data, y_train)\n",
    "predictions = naive_bayes.predict(test_data)\n",
    "\n",
    "from sklearn.metrics import accuracy_score, precision_score, recall_score, f1_score\n",
    "print('Accuracy score {}'.format(accuracy_score(y_test, predictions)))\n",
    "print('Precision score {}'.format(precision_score(y_test, predictions)))\n",
    "print('Recall score {}'.format(recall_score(y_test, predictions)))\n",
    "print('F1 score {}'.format(f1_score(y_test, predictions)))"
   ]
  }
 ],
 "metadata": {
  "kernelspec": {
   "display_name": "Python 2",
   "language": "python",
   "name": "python2"
  },
  "language_info": {
   "codemirror_mode": {
    "name": "ipython",
    "version": 2
   },
   "file_extension": ".py",
   "mimetype": "text/x-python",
   "name": "python",
   "nbconvert_exporter": "python",
   "pygments_lexer": "ipython2",
   "version": "2.7.13"
  }
 },
 "nbformat": 4,
 "nbformat_minor": 2
}
